{
 "cells": [
  {
   "cell_type": "code",
   "execution_count": 4,
   "id": "0e44fd7f",
   "metadata": {},
   "outputs": [
    {
     "name": "stdout",
     "output_type": "stream",
     "text": [
      "0.9210609940028851\n",
      "0.921060994002885\n",
      "Help on function my_cos in module __main__:\n",
      "\n",
      "my_cos(x)\n",
      "    Вычисление косинуса при помощи частичного суммирования\n",
      "    ряда Тейлора для окрестности 0\n",
      "\n",
      "None\n",
      "Help on built-in function cos in module math:\n",
      "\n",
      "cos(...)\n",
      "    cos(x)\n",
      "    \n",
      "    Return the cosine of x (measured in radians).\n",
      "\n",
      "None\n"
     ]
    }
   ],
   "source": [
    "import math\n",
    "ITERATIONS = 50\n",
    "\n",
    "\n",
    "def my_cos(x):\n",
    "    \"\"\"\n",
    "    Вычисление косинуса при помощи частичного суммирования\n",
    "    ряда Тейлора для окрестности 0\n",
    "    \"\"\"\n",
    "    x_pow = x\n",
    "    multiplier = 1\n",
    "    cos = 0\n",
    "    for i in range(0, ITERATIONS):\n",
    "        cos += ((-1) ** i) * (multiplier / math.factorial(2 * i))\n",
    "        multiplier *= x_pow ** 2\n",
    "    return cos\n",
    "\n",
    "\n",
    "print(math.cos(0.4))\n",
    "print(my_cos(0.4))\n",
    "print(help(my_cos))\n",
    "print(help(math.cos))"
   ]
  },
  {
   "cell_type": "code",
   "execution_count": 7,
   "id": "0e5e0d3f",
   "metadata": {},
   "outputs": [
    {
     "name": "stdout",
     "output_type": "stream",
     "text": [
      "угол, при котором косинус принимает значение 5: -2.2924316695611777j\n",
      "Достигает ли наш косинус пяти? (5.000000000000001+0j)\n",
      "Библиотечный: (5+0j)\n"
     ]
    }
   ],
   "source": [
    "import math\n",
    "import cmath\n",
    "\n",
    "complex_angle = cmath.acos(5)\n",
    "print(\"угол, при котором косинус принимает значение 5:\", complex_angle)\n",
    "print(\"Достигает ли наш косинус пяти?\", my_cos(complex_angle))\n",
    "print(\"Библиотечный:\", cmath.cos(complex_angle))"
   ]
  },
  {
   "cell_type": "code",
   "execution_count": 8,
   "id": "909fe9cb",
   "metadata": {},
   "outputs": [
    {
     "name": "stdout",
     "output_type": "stream",
     "text": [
      "<function my_cos at 0x7f8dcc8dc730> <numpy.vectorize object at 0x7f8dd21b4630>\n"
     ]
    },
    {
     "data": {
      "image/png": "[encoded data removed]",
      "text/plain": [
       "<Figure size 432x288 with 1 Axes>"
      ]
     },
     "metadata": {
      "needs_background": "light"
     },
     "output_type": "display_data"
    }
   ],
   "source": [
    "from IPython.display import set_matplotlib_formats\n",
    "set_matplotlib_formats('pdf', 'svg')\n",
    "import matplotlib.pyplot as plt\n",
    "import numpy as np\n",
    "import cmath\n",
    "\n",
    "\n",
    "vs = np.vectorize(my_cos)\n",
    "print(my_cos, vs)\n",
    "\n",
    "angles = np.r_[-40:40:0.01]\n",
    "plt.plot(angles, np.cos(angles))\n",
    "plt.plot(angles, vs(angles))\n",
    "plt.show()"
   ]
  },
  {
   "cell_type": "code",
   "execution_count": null,
   "id": "4a7b7855",
   "metadata": {},
   "outputs": [],
   "source": []
  }
 ],
 "metadata": {
  "kernelspec": {
   "display_name": "Python 3",
   "language": "python",
   "name": "python3"
  },
  "language_info": {
   "codemirror_mode": {
    "name": "ipython",
    "version": 3
   },
   "file_extension": ".py",
   "mimetype": "text/x-python",
   "name": "python",
   "nbconvert_exporter": "python",
   "pygments_lexer": "ipython3",
   "version": "3.6.13"
  }
 },
 "nbformat": 4,
 "nbformat_minor": 5
}
